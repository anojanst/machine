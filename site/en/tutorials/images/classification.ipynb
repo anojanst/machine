{
  "cells": [
    {
      "cell_type": "code",
      "source": [
        "!pip install tensorflow==2.11\n",
        "!pip install tensorflow-hub==0.12\n"
      ],
      "metadata": {
        "id": "1221rlo8_C9S"
      },
      "execution_count": null,
      "outputs": []
    },
    {
      "cell_type": "code",
      "execution_count": 37,
      "metadata": {
        "id": "L1WtoaOHVrVh"
      },
      "outputs": [],
      "source": [
        "import matplotlib.pyplot as plt\n",
        "import numpy as np\n",
        "import PIL\n",
        "import tensorflow as tf\n",
        "\n",
        "from tensorflow import keras\n",
        "from tensorflow.keras import layers\n",
        "from tensorflow.keras.models import Sequential"
      ]
    },
    {
      "cell_type": "code",
      "execution_count": null,
      "metadata": {
        "id": "57CcilYSG0zv"
      },
      "outputs": [],
      "source": [
        "from google.colab import drive\n",
        "drive.mount('/content/drive', force_remount=True)\n",
        "\n",
        "data_root  = ('/content/drive/My Drive/data')\n",
        "IMAGE_SHAPE = (425, 425)\n",
        "TRAINING_DATA_DIR = str(data_root)\n",
        "datagen_kwargs = dict(rescale=1./255, validation_split=.20)\n",
        "valid_datagen = tf.keras.preprocessing.image.ImageDataGenerator(**datagen_kwargs)\n",
        "valid_generator = valid_datagen.flow_from_directory(TRAINING_DATA_DIR,subset=\"validation\",shuffle=True,target_size=(224, 224))\n",
        "train_datagen = tf.keras.preprocessing.image.ImageDataGenerator(**datagen_kwargs)\n",
        "train_generator = train_datagen.flow_from_directory(TRAINING_DATA_DIR,subset=\"training\",shuffle=True,target_size=(224, 224))"
      ]
    },
    {
      "cell_type": "code",
      "execution_count": null,
      "metadata": {
        "id": "SbtTDYhOHZb6"
      },
      "outputs": [],
      "source": [
        "for image_batch, label_batch in train_generator:\n",
        "  break\n",
        "image_batch.shape, label_batch.shape"
      ]
    },
    {
      "cell_type": "code",
      "execution_count": null,
      "metadata": {
        "id": "N1loMlbYHeiJ"
      },
      "outputs": [],
      "source": [
        "print (train_generator.class_indices)"
      ]
    },
    {
      "cell_type": "code",
      "execution_count": null,
      "metadata": {
        "id": "RQbZBOTLHiUP"
      },
      "outputs": [],
      "source": [
        "labels = '\\n'.join(sorted(train_generator.class_indices.keys()))\n",
        "with open('labels.txt', 'w') as f:\n",
        " f.write(labels)\n",
        "!cat labels.txt"
      ]
    },
    {
      "cell_type": "code",
      "source": [
        "import tensorflow_hub as hub\n",
        "m = keras.Sequential([\n",
        "    keras.layers.Resizing(224, 224),\n",
        "    hub.KerasLayer(\"https://www.kaggle.com/models/google/mobilenet-v3/TensorFlow2/large-075-224-classification/1\"),  # Can be True, see below.\n",
        "    keras.layers.Dense(train_generator.num_classes, activation='softmax')\n",
        "])\n",
        "m.build([None, 425, 425, 3])  # Batch input shape.\n"
      ],
      "metadata": {
        "id": "KOLupX3L44u9"
      },
      "execution_count": 42,
      "outputs": []
    },
    {
      "cell_type": "code",
      "execution_count": 43,
      "metadata": {
        "id": "HyQkfPGdHilw"
      },
      "outputs": [],
      "source": [
        "from tensorflow.keras.optimizers import Adam\n",
        "optimizer = Adam(learning_rate=1e-3)\n",
        "m.compile(\n",
        " optimizer=optimizer,\n",
        " loss='categorical_crossentropy',\n",
        " metrics=['acc'])"
      ]
    },
    {
      "cell_type": "code",
      "execution_count": null,
      "metadata": {
        "id": "wtlhWJPAHivf"
      },
      "outputs": [],
      "source": [
        "steps_per_epoch = np.ceil(train_generator.samples/train_generator.batch_size)\n",
        "val_steps_per_epoch = np.ceil(valid_generator.samples/valid_generator.batch_size)\n",
        "hist = m.fit(\n",
        " train_generator,\n",
        " epochs=100,\n",
        " verbose=1,\n",
        " steps_per_epoch=steps_per_epoch,\n",
        " validation_data=valid_generator,\n",
        " validation_steps=val_steps_per_epoch).history"
      ]
    },
    {
      "cell_type": "code",
      "source": [
        "final_loss, final_accuracy = m.evaluate(valid_generator, steps = val_steps_per_epoch)\n",
        "print(\"Final loss: {:.2f}\".format(final_loss))\n",
        "print(\"Final accuracy: {:.2f}%\".format(final_accuracy * 100))"
      ],
      "metadata": {
        "id": "4udBDw2EDs-P"
      },
      "execution_count": null,
      "outputs": []
    },
    {
      "cell_type": "code",
      "source": [
        "plt.figure()\n",
        "plt.ylabel(\"Loss (training and validation)\")\n",
        "plt.xlabel(\"Training Steps\")\n",
        "plt.ylim([0,50])\n",
        "plt.plot(hist[\"loss\"])\n",
        "plt.plot(hist[\"val_loss\"])\n",
        "plt.figure()\n",
        "plt.ylabel(\"Accuracy (training and validation)\")\n",
        "plt.xlabel(\"Training Steps\")\n",
        "plt.ylim([0,1])\n",
        "plt.plot(hist[\"acc\"])\n",
        "plt.plot(hist[\"val_acc\"])"
      ],
      "metadata": {
        "id": "TKEY7RwcD_kF"
      },
      "execution_count": null,
      "outputs": []
    },
    {
      "cell_type": "code",
      "source": [
        "images, true_labels = next(valid_generator)\n",
        "\n",
        "tf_model_predictions = m.predict(images)\n",
        "\n",
        "print(\"Prediction results shape:\", tf_model_predictions.shape)\n",
        "\n",
        "plt.figure(figsize=(10, 9))\n",
        "plt.subplots_adjust(hspace=0.5)\n",
        "\n",
        "for n in range(min(9, len(images))):\n",
        "    plt.subplot(6, 5, n + 1)\n",
        "    plt.imshow(images[n])\n",
        "    predicted_class = np.argmax(tf_model_predictions[n])\n",
        "    true_class = np.argmax(true_labels[n])\n",
        "    color = \"green\" if predicted_class == true_class else \"red\"\n",
        "    plt.title(f\"Pred: {predicted_class}, True: {true_class}\", color=color)\n",
        "    plt.axis('off')\n",
        "\n",
        "_ = plt.suptitle(\"Model predictions (green: correct, red: incorrect)\")\n",
        "plt.show()"
      ],
      "metadata": {
        "id": "2awFnJbyEdKr"
      },
      "execution_count": null,
      "outputs": []
    },
    {
      "cell_type": "code",
      "source": [
        "m.save('model/needle_or_not.h5')"
      ],
      "metadata": {
        "id": "reYp6ff1fSZ2"
      },
      "execution_count": 48,
      "outputs": []
    },
    {
      "cell_type": "code",
      "source": [
        "from tensorflow.keras.utils import get_custom_objects\n",
        "\n",
        "get_custom_objects().update({'KerasLayer': hub.KerasLayer})\n",
        "\n",
        "loaded_model = tf.keras.models.load_model('model/needle_or_not.h5')"
      ],
      "metadata": {
        "id": "hN-sTJW2f-b4"
      },
      "execution_count": 50,
      "outputs": []
    },
    {
      "cell_type": "code",
      "source": [
        "from tensorflow.keras.preprocessing import image\n",
        "\n",
        "img_path = 'test/5.png'\n",
        "img = image.load_img(img_path, target_size=(224, 224))\n",
        "img_array = image.img_to_array(img)\n",
        "img_array = np.expand_dims(img_array, axis=0)\n",
        "img_array /= 255.0\n",
        "\n",
        "pred = loaded_model.predict(img_array)\n",
        "predicted_class = \"Needle\"\n",
        "if np.argmax(pred, axis=1) == 1 :\n",
        "  predicted_class = \"Not Needle\"\n",
        "\n",
        "print(f\"Object is {predicted_class}\")"
      ],
      "metadata": {
        "id": "DL8lFA9YhQDZ"
      },
      "execution_count": null,
      "outputs": []
    }
  ],
  "metadata": {
    "accelerator": "GPU",
    "colab": {
      "name": "classification.ipynb",
      "provenance": []
    },
    "kernelspec": {
      "display_name": "Python 3",
      "name": "python3"
    }
  },
  "nbformat": 4,
  "nbformat_minor": 0
}